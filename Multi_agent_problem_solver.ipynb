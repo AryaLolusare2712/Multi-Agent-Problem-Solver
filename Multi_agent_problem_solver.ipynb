{
 "cells": [
  {
   "cell_type": "code",
   "execution_count": 24,
   "id": "0d1060b2-d70e-41fd-9cdb-0edfdbe613da",
   "metadata": {},
   "outputs": [
    {
     "name": "stdout",
     "output_type": "stream",
     "text": [
      "Collecting reportlab\n",
      "  Downloading reportlab-4.4.3-py3-none-any.whl.metadata (1.7 kB)\n",
      "Requirement already satisfied: pillow>=9.0.0 in c:\\users\\aryal\\anaconda\\envs\\llms\\lib\\site-packages (from reportlab) (11.2.1)\n",
      "Requirement already satisfied: charset-normalizer in c:\\users\\aryal\\anaconda\\envs\\llms\\lib\\site-packages (from reportlab) (3.4.2)\n",
      "Downloading reportlab-4.4.3-py3-none-any.whl (2.0 MB)\n",
      "   ---------------------------------------- 0.0/2.0 MB ? eta -:--:--\n",
      "   ---------------------------------------- 0.0/2.0 MB ? eta -:--:--\n",
      "   ---------------------------------------- 0.0/2.0 MB ? eta -:--:--\n",
      "   ---------------------------------------- 0.0/2.0 MB ? eta -:--:--\n",
      "   ---------------------------------------- 0.0/2.0 MB ? eta -:--:--\n",
      "   ---------------------------------------- 0.0/2.0 MB ? eta -:--:--\n",
      "   ---------------------------------------- 0.0/2.0 MB ? eta -:--:--\n",
      "   ---------------------------------------- 0.0/2.0 MB ? eta -:--:--\n",
      "   ---------------------------------------- 0.0/2.0 MB ? eta -:--:--\n",
      "   ---------------------------------------- 0.0/2.0 MB ? eta -:--:--\n",
      "   ---------------------------------------- 0.0/2.0 MB ? eta -:--:--\n",
      "   ---------------------------------------- 0.0/2.0 MB ? eta -:--:--\n",
      "   ---------------------------------------- 0.0/2.0 MB ? eta -:--:--\n",
      "   ---------------------------------------- 0.0/2.0 MB ? eta -:--:--\n",
      "   ---------------------------------------- 0.0/2.0 MB ? eta -:--:--\n",
      "   ---------------------------------------- 0.0/2.0 MB ? eta -:--:--\n",
      "   ---------------------------------------- 0.0/2.0 MB ? eta -:--:--\n",
      "   ---------------------------------------- 0.0/2.0 MB ? eta -:--:--\n",
      "   ---------------------------------------- 0.0/2.0 MB ? eta -:--:--\n",
      "   ---------------------------------------- 0.0/2.0 MB ? eta -:--:--\n",
      "   ---------------------------------------- 0.0/2.0 MB ? eta -:--:--\n",
      "   ----- ---------------------------------- 0.3/2.0 MB ? eta -:--:--\n",
      "   ----- ---------------------------------- 0.3/2.0 MB ? eta -:--:--\n",
      "   ----- ---------------------------------- 0.3/2.0 MB ? eta -:--:--\n",
      "   ----- ---------------------------------- 0.3/2.0 MB ? eta -:--:--\n",
      "   ----- ---------------------------------- 0.3/2.0 MB ? eta -:--:--\n",
      "   ----- ---------------------------------- 0.3/2.0 MB ? eta -:--:--\n",
      "   ----- ---------------------------------- 0.3/2.0 MB ? eta -:--:--\n",
      "   ----- ---------------------------------- 0.3/2.0 MB ? eta -:--:--\n",
      "   ----- ---------------------------------- 0.3/2.0 MB ? eta -:--:--\n",
      "   ----- ---------------------------------- 0.3/2.0 MB ? eta -:--:--\n",
      "   ----- ---------------------------------- 0.3/2.0 MB ? eta -:--:--\n",
      "   ----- ---------------------------------- 0.3/2.0 MB ? eta -:--:--\n",
      "   ----- ---------------------------------- 0.3/2.0 MB ? eta -:--:--\n",
      "   ----- ---------------------------------- 0.3/2.0 MB ? eta -:--:--\n",
      "   ----- ---------------------------------- 0.3/2.0 MB ? eta -:--:--\n",
      "   ----- ---------------------------------- 0.3/2.0 MB ? eta -:--:--\n",
      "   ----- ---------------------------------- 0.3/2.0 MB ? eta -:--:--\n",
      "   ----- ---------------------------------- 0.3/2.0 MB ? eta -:--:--\n",
      "   ---------- ----------------------------- 0.5/2.0 MB 69.6 kB/s eta 0:00:21\n",
      "   ---------- ----------------------------- 0.5/2.0 MB 69.6 kB/s eta 0:00:21\n",
      "   ---------- ----------------------------- 0.5/2.0 MB 69.6 kB/s eta 0:00:21\n",
      "   ---------- ----------------------------- 0.5/2.0 MB 69.6 kB/s eta 0:00:21\n",
      "   ---------- ----------------------------- 0.5/2.0 MB 69.6 kB/s eta 0:00:21\n",
      "   ---------- ----------------------------- 0.5/2.0 MB 69.6 kB/s eta 0:00:21\n",
      "   ---------- ----------------------------- 0.5/2.0 MB 69.6 kB/s eta 0:00:21\n",
      "   ---------- ----------------------------- 0.5/2.0 MB 69.6 kB/s eta 0:00:21\n",
      "   ---------- ----------------------------- 0.5/2.0 MB 69.6 kB/s eta 0:00:21\n",
      "   ---------- ----------------------------- 0.5/2.0 MB 69.6 kB/s eta 0:00:21\n",
      "   ---------- ----------------------------- 0.5/2.0 MB 69.6 kB/s eta 0:00:21\n",
      "   ---------- ----------------------------- 0.5/2.0 MB 69.6 kB/s eta 0:00:21\n",
      "   ---------- ----------------------------- 0.5/2.0 MB 69.6 kB/s eta 0:00:21\n",
      "   ---------- ----------------------------- 0.5/2.0 MB 69.6 kB/s eta 0:00:21\n",
      "   ---------------- ----------------------- 0.8/2.0 MB 77.3 kB/s eta 0:00:16\n",
      "   ---------------- ----------------------- 0.8/2.0 MB 77.3 kB/s eta 0:00:16\n",
      "   ---------------- ----------------------- 0.8/2.0 MB 77.3 kB/s eta 0:00:16\n",
      "   ---------------- ----------------------- 0.8/2.0 MB 77.3 kB/s eta 0:00:16\n",
      "   ---------------- ----------------------- 0.8/2.0 MB 77.3 kB/s eta 0:00:16\n",
      "   ---------------- ----------------------- 0.8/2.0 MB 77.3 kB/s eta 0:00:16\n",
      "   ---------------- ----------------------- 0.8/2.0 MB 77.3 kB/s eta 0:00:16\n",
      "   ---------------- ----------------------- 0.8/2.0 MB 77.3 kB/s eta 0:00:16\n",
      "   ---------------- ----------------------- 0.8/2.0 MB 77.3 kB/s eta 0:00:16\n",
      "   ---------------- ----------------------- 0.8/2.0 MB 77.3 kB/s eta 0:00:16\n",
      "   ---------------- ----------------------- 0.8/2.0 MB 77.3 kB/s eta 0:00:16\n",
      "   ---------------- ----------------------- 0.8/2.0 MB 77.3 kB/s eta 0:00:16\n",
      "   ---------------- ----------------------- 0.8/2.0 MB 77.3 kB/s eta 0:00:16\n",
      "   --------------------- ------------------ 1.0/2.0 MB 83.6 kB/s eta 0:00:11\n",
      "   --------------------- ------------------ 1.0/2.0 MB 83.6 kB/s eta 0:00:11\n",
      "   --------------------- ------------------ 1.0/2.0 MB 83.6 kB/s eta 0:00:11\n",
      "   --------------------- ------------------ 1.0/2.0 MB 83.6 kB/s eta 0:00:11\n",
      "   --------------------- ------------------ 1.0/2.0 MB 83.6 kB/s eta 0:00:11\n",
      "   --------------------- ------------------ 1.0/2.0 MB 83.6 kB/s eta 0:00:11\n",
      "   --------------------- ------------------ 1.0/2.0 MB 83.6 kB/s eta 0:00:11\n",
      "   --------------------- ------------------ 1.0/2.0 MB 83.6 kB/s eta 0:00:11\n",
      "   --------------------- ------------------ 1.0/2.0 MB 83.6 kB/s eta 0:00:11\n",
      "   --------------------- ------------------ 1.0/2.0 MB 83.6 kB/s eta 0:00:11\n",
      "   --------------------- ------------------ 1.0/2.0 MB 83.6 kB/s eta 0:00:11\n",
      "   -------------------------- ------------- 1.3/2.0 MB 88.9 kB/s eta 0:00:08\n",
      "   -------------------------- ------------- 1.3/2.0 MB 88.9 kB/s eta 0:00:08\n",
      "   -------------------------- ------------- 1.3/2.0 MB 88.9 kB/s eta 0:00:08\n",
      "   -------------------------- ------------- 1.3/2.0 MB 88.9 kB/s eta 0:00:08\n",
      "   -------------------------- ------------- 1.3/2.0 MB 88.9 kB/s eta 0:00:08\n",
      "   -------------------------- ------------- 1.3/2.0 MB 88.9 kB/s eta 0:00:08\n",
      "   -------------------------- ------------- 1.3/2.0 MB 88.9 kB/s eta 0:00:08\n",
      "   -------------------------- ------------- 1.3/2.0 MB 88.9 kB/s eta 0:00:08\n",
      "   -------------------------- ------------- 1.3/2.0 MB 88.9 kB/s eta 0:00:08\n",
      "   -------------------------- ------------- 1.3/2.0 MB 88.9 kB/s eta 0:00:08\n",
      "   -------------------------- ------------- 1.3/2.0 MB 88.9 kB/s eta 0:00:08\n",
      "   -------------------------- ------------- 1.3/2.0 MB 88.9 kB/s eta 0:00:08\n",
      "   -------------------------------- ------- 1.6/2.0 MB 92.7 kB/s eta 0:00:05\n",
      "   -------------------------------- ------- 1.6/2.0 MB 92.7 kB/s eta 0:00:05\n",
      "   -------------------------------- ------- 1.6/2.0 MB 92.7 kB/s eta 0:00:05\n",
      "   -------------------------------- ------- 1.6/2.0 MB 92.7 kB/s eta 0:00:05\n",
      "   -------------------------------- ------- 1.6/2.0 MB 92.7 kB/s eta 0:00:05\n",
      "   -------------------------------- ------- 1.6/2.0 MB 92.7 kB/s eta 0:00:05\n",
      "   -------------------------------- ------- 1.6/2.0 MB 92.7 kB/s eta 0:00:05\n",
      "   -------------------------------- ------- 1.6/2.0 MB 92.7 kB/s eta 0:00:05\n",
      "   -------------------------------- ------- 1.6/2.0 MB 92.7 kB/s eta 0:00:05\n",
      "   -------------------------------- ------- 1.6/2.0 MB 92.7 kB/s eta 0:00:05\n",
      "   -------------------------------- ------- 1.6/2.0 MB 92.7 kB/s eta 0:00:05\n",
      "   -------------------------------- ------- 1.6/2.0 MB 92.7 kB/s eta 0:00:05\n",
      "   ------------------------------------- -- 1.8/2.0 MB 94.1 kB/s eta 0:00:02\n",
      "   ------------------------------------- -- 1.8/2.0 MB 94.1 kB/s eta 0:00:02\n",
      "   ------------------------------------- -- 1.8/2.0 MB 94.1 kB/s eta 0:00:02\n",
      "   ------------------------------------- -- 1.8/2.0 MB 94.1 kB/s eta 0:00:02\n",
      "   ------------------------------------- -- 1.8/2.0 MB 94.1 kB/s eta 0:00:02\n",
      "   ---------------------------------------- 2.0/2.0 MB 96.0 kB/s  0:00:21\n",
      "Installing collected packages: reportlab\n",
      "Successfully installed reportlab-4.4.3\n",
      "Requirement already satisfied: matplotlib in c:\\users\\aryal\\anaconda\\envs\\llms\\lib\\site-packages (3.10.5)\n",
      "Requirement already satisfied: networkx in c:\\users\\aryal\\anaconda\\envs\\llms\\lib\\site-packages (3.5)\n",
      "Requirement already satisfied: contourpy>=1.0.1 in c:\\users\\aryal\\anaconda\\envs\\llms\\lib\\site-packages (from matplotlib) (1.3.2)\n",
      "Requirement already satisfied: cycler>=0.10 in c:\\users\\aryal\\anaconda\\envs\\llms\\lib\\site-packages (from matplotlib) (0.12.1)\n",
      "Requirement already satisfied: fonttools>=4.22.0 in c:\\users\\aryal\\anaconda\\envs\\llms\\lib\\site-packages (from matplotlib) (4.58.4)\n",
      "Requirement already satisfied: kiwisolver>=1.3.1 in c:\\users\\aryal\\anaconda\\envs\\llms\\lib\\site-packages (from matplotlib) (1.4.7)\n",
      "Requirement already satisfied: numpy>=1.23 in c:\\users\\aryal\\anaconda\\envs\\llms\\lib\\site-packages (from matplotlib) (1.26.4)\n",
      "Requirement already satisfied: packaging>=20.0 in c:\\users\\aryal\\anaconda\\envs\\llms\\lib\\site-packages (from matplotlib) (24.2)\n",
      "Requirement already satisfied: pillow>=8 in c:\\users\\aryal\\anaconda\\envs\\llms\\lib\\site-packages (from matplotlib) (11.2.1)\n",
      "Requirement already satisfied: pyparsing>=2.3.1 in c:\\users\\aryal\\anaconda\\envs\\llms\\lib\\site-packages (from matplotlib) (3.2.3)\n",
      "Requirement already satisfied: python-dateutil>=2.7 in c:\\users\\aryal\\anaconda\\envs\\llms\\lib\\site-packages (from matplotlib) (2.9.0.post0)\n",
      "Requirement already satisfied: six>=1.5 in c:\\users\\aryal\\anaconda\\envs\\llms\\lib\\site-packages (from python-dateutil>=2.7->matplotlib) (1.17.0)\n",
      "Requirement already satisfied: pyttsx3 in c:\\users\\aryal\\anaconda\\envs\\llms\\lib\\site-packages (2.98)\n",
      "Requirement already satisfied: comtypes in c:\\users\\aryal\\anaconda\\envs\\llms\\lib\\site-packages (from pyttsx3) (1.4.11)\n",
      "Requirement already satisfied: pypiwin32 in c:\\users\\aryal\\anaconda\\envs\\llms\\lib\\site-packages (from pyttsx3) (223)\n",
      "Requirement already satisfied: pywin32 in c:\\users\\aryal\\anaconda\\envs\\llms\\lib\\site-packages (from pyttsx3) (307)\n"
     ]
    }
   ],
   "source": [
    "!pip install reportlab\n",
    "!pip install matplotlib networkx\n",
    "!pip install pyttsx3\n"
   ]
  },
  {
   "cell_type": "code",
   "execution_count": 30,
   "id": "1950c6e3-d68a-4290-ab28-4fef60663c4d",
   "metadata": {},
   "outputs": [
    {
     "name": "stdout",
     "output_type": "stream",
     "text": [
      "* Running on local URL:  http://127.0.0.1:7868\n",
      "* To create a public link, set `share=True` in `launch()`.\n"
     ]
    },
    {
     "data": {
      "text/html": [
       "<div><iframe src=\"http://127.0.0.1:7868/\" width=\"100%\" height=\"500\" allow=\"autoplay; camera; microphone; clipboard-read; clipboard-write;\" frameborder=\"0\" allowfullscreen></iframe></div>"
      ],
      "text/plain": [
       "<IPython.core.display.HTML object>"
      ]
     },
     "metadata": {},
     "output_type": "display_data"
    },
    {
     "data": {
      "text/plain": []
     },
     "execution_count": 30,
     "metadata": {},
     "output_type": "execute_result"
    }
   ],
   "source": [
    "# === Imports & Setup ===\n",
    "import os\n",
    "import gradio as gr\n",
    "import google.generativeai as genai\n",
    "from dotenv import load_dotenv\n",
    "import tempfile\n",
    "from reportlab.platypus import SimpleDocTemplate, Paragraph, Spacer\n",
    "from reportlab.lib.styles import getSampleStyleSheet\n",
    "import matplotlib.pyplot as plt\n",
    "import networkx as nx\n",
    "import uuid\n",
    "\n"
   ]
  },
  {
   "cell_type": "code",
   "execution_count": 31,
   "id": "d6c37bea-823a-4e65-af16-ce73b4b150d6",
   "metadata": {},
   "outputs": [],
   "source": [
    "# Load API key\n",
    "load_dotenv()\n",
    "GOOGLE_API_KEY = os.getenv(\"GOOGLE_API_KEY\")\n",
    "genai.configure(api_key=GOOGLE_API_KEY)\n",
    "\n"
   ]
  },
  {
   "cell_type": "code",
   "execution_count": 32,
   "id": "5b125ac0-cb35-4478-9936-edd04771a95f",
   "metadata": {},
   "outputs": [],
   "source": [
    "# === Gemini Caller ===\n",
    "def call_gemini(system_prompt, user_prompt, language, temperature=0.5, max_output=400):\n",
    "    model = genai.GenerativeModel(\"models/gemini-1.5-flash\")\n",
    "    user_prompt = f\"{user_prompt}\\n\\nRespond in {language}.\"\n",
    "    response = model.generate_content(\n",
    "        [system_prompt, user_prompt],\n",
    "        generation_config={\"temperature\": temperature, \"max_output_tokens\": max_output},\n",
    "        stream=True\n",
    "    )\n",
    "    full_text = \"\"\n",
    "    for chunk in response:\n",
    "        if chunk.text:\n",
    "            full_text += chunk.text\n",
    "            yield full_text\n",
    "    yield full_text\n",
    "\n"
   ]
  },
  {
   "cell_type": "code",
   "execution_count": null,
   "id": "dfe43ae3-2608-44a5-993c-2efa0cd4f04f",
   "metadata": {},
   "outputs": [],
   "source": [
    "# === Agents ===\n",
    "def run_ceo(problem, constraints, language, temp):\n",
    "    return call_gemini(\"You are CEO Agent. Generate concise product ideas.\",\n",
    "                       f\"Problem: {problem}\\nConstraints: {constraints}\", language, temp)\n",
    "\n",
    "def run_researcher(idea, language, temp):\n",
    "    return call_gemini(\"You are Research Agent. Provide background and competitors.\",\n",
    "                       f\"Idea to research: {idea}\", language, temp)\n",
    "\n",
    "def run_coder(idea, research, language, temp):\n",
    "    return call_gemini(\"You are Coder Agent. Suggest an implementation approach.\",\n",
    "                       f\"Idea: {idea}\\nResearch: {research}\", language, temp)\n",
    "\n",
    "def run_critic(idea, research, codeplan, language, temp):\n",
    "    return call_gemini(\"You are Critic Agent. Analyze risks and flaws.\",\n",
    "                       f\"Idea: {idea}\\nResearch: {research}\\nCode Plan: {codeplan}\", language, temp)\n",
    "\n"
   ]
  }
 ],
 "metadata": {
  "kernelspec": {
   "display_name": "Python 3 (ipykernel)",
   "language": "python",
   "name": "python3"
  },
  "language_info": {
   "codemirror_mode": {
    "name": "ipython",
    "version": 3
   },
   "file_extension": ".py",
   "mimetype": "text/x-python",
   "name": "python",
   "nbconvert_exporter": "python",
   "pygments_lexer": "ipython3",
   "version": "3.11.13"
  }
 },
 "nbformat": 4,
 "nbformat_minor": 5
}
